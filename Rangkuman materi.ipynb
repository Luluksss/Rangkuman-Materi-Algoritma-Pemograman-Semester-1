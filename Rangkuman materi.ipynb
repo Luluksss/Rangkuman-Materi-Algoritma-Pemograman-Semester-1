{
  "nbformat": 4,
  "nbformat_minor": 0,
  "metadata": {
    "colab": {
      "provenance": [],
      "authorship_tag": "ABX9TyMZ6g3T+A8VpOJFUiVLZC0h",
      "include_colab_link": true
    },
    "kernelspec": {
      "name": "python3",
      "display_name": "Python 3"
    },
    "language_info": {
      "name": "python"
    }
  },
  "cells": [
    {
      "cell_type": "markdown",
      "metadata": {
        "id": "view-in-github",
        "colab_type": "text"
      },
      "source": [
        "<a href=\"https://colab.research.google.com/github/Luluksss/Rangkuman-Materi-Algoritma-Pemograman-Semester-1/blob/main/Rangkuman%20materi.ipynb\" target=\"_parent\"><img src=\"https://colab.research.google.com/assets/colab-badge.svg\" alt=\"Open In Colab\"/></a>"
      ]
    },
    {
      "cell_type": "markdown",
      "source": [
        "Nama  : Luluk Nabilah Putri\n",
        "\n",
        "NIM   : 103102400057\n",
        "\n",
        "Kelas : DS-04-02"
      ],
      "metadata": {
        "id": "S1ayu4lfBhGs"
      }
    },
    {
      "cell_type": "code",
      "source": [
        "print(\"Hello, World!\")"
      ],
      "metadata": {
        "colab": {
          "base_uri": "https://localhost:8080/"
        },
        "id": "_0jtVpYZBrtV",
        "outputId": "cea22886-a68b-48bd-afce-fff16cece473"
      },
      "execution_count": null,
      "outputs": [
        {
          "output_type": "stream",
          "name": "stdout",
          "text": [
            "Hello, World!\n"
          ]
        }
      ]
    },
    {
      "cell_type": "markdown",
      "source": [
        "Kode di atas mencetak \"Hello, world!\".\n",
        "\n",
        "\n",
        "*   Kata kunci print() digunakan untuk mencetak data ke layar.\n",
        "\n",
        "*   Data yang akan dicetak diletakkan di dalam tanda kurung setelah kata kunci print().\n",
        "\n",
        "\n",
        "*   Data yang akan dicetak diletakkan di dalam tanda kurung setelah kata kunci print().\n",
        "*   Jika data yang akan dicetak adalah teks, maka harus dikelilingi dengan tanda kutip.\n",
        "\n",
        "\n",
        "\n",
        "\n"
      ],
      "metadata": {
        "id": "jV4NqMJUCFe4"
      }
    },
    {
      "cell_type": "code",
      "source": [
        "nama = \"ilham\"\n",
        "usia = 19\n",
        "print(\"Nama saya adalah\", nama, \"dan usianya adalah\", usia)"
      ],
      "metadata": {
        "colab": {
          "base_uri": "https://localhost:8080/"
        },
        "id": "Lmf0tYPjC5KS",
        "outputId": "0d08d4ae-9d21-408f-aa52-f6a945dd66aa"
      },
      "execution_count": null,
      "outputs": [
        {
          "output_type": "stream",
          "name": "stdout",
          "text": [
            "Nama saya adalah ilham dan usianya adalah 19\n"
          ]
        }
      ]
    },
    {
      "cell_type": "markdown",
      "source": [
        "**Variabel**\n",
        "Variable adalah tempat penyimpanan data dalam Python. Variable dapat digunakan untuk menyimpan berbagai jenis data, seperti integer, float, string, dan boolean.\n",
        "\n",
        "Kode di atas mencetak dua variable\n",
        "\n",
        "\n",
        "*   mendeklarasikan variable nama dengan tipe data string dan menyimpan nilai \"ilham\".\n",
        "*   String didefinisikan dengan tanda \"...\"\n",
        "\n",
        "\n",
        "*   mendeklarasikan variable usia dengan tipe data integer dan menyimpan nilai 19.\n",
        "\n",
        "\n",
        "\n"
      ],
      "metadata": {
        "id": "jyS3Zo-5EOpq"
      }
    },
    {
      "cell_type": "code",
      "source": [
        "nama = \"ilham\"\n",
        "usia = 19\n",
        "tinggi = 1.73\n",
        "benar = True\n",
        "print(type(nama))\n",
        "print(type(usia))\n",
        "print(type(tinggi))\n",
        "print(type(benar))"
      ],
      "metadata": {
        "colab": {
          "base_uri": "https://localhost:8080/"
        },
        "id": "bq1VqRKVECK6",
        "outputId": "ded0e336-842d-468a-8854-5088e7babc0b"
      },
      "execution_count": null,
      "outputs": [
        {
          "output_type": "stream",
          "name": "stdout",
          "text": [
            "<class 'str'>\n",
            "<class 'int'>\n",
            "<class 'float'>\n",
            "<class 'bool'>\n"
          ]
        }
      ]
    },
    {
      "cell_type": "markdown",
      "source": [
        "**Data Type**\n",
        "\n",
        "Kode di atas mencetak tipe data dari setiap variabel\n",
        "*  Variable nama adalah tipe data string.\n",
        "\n",
        "\n",
        "*   Variable usia adalah tipe data integer.\n",
        "*  Variable tinggi adalah tipe data float.\n",
        "\n",
        "\n",
        "*  Variable benar adalah tipe data boolean.\n",
        "\n",
        "\n",
        "\n",
        "\n",
        "\n",
        "\n"
      ],
      "metadata": {
        "id": "FgIxmx8sHyud"
      }
    },
    {
      "cell_type": "code",
      "source": [
        "# Komentar\n",
        "nama = \"Luluk\"\n",
        "# Komentar\n",
        "usia = 18\n",
        "# Komentar\n",
        "tinggi = 1.55"
      ],
      "metadata": {
        "id": "RNlsKTGuIlf3"
      },
      "execution_count": null,
      "outputs": []
    },
    {
      "cell_type": "markdown",
      "source": [
        "Komentar dalam Python diawali dengan tanda pagar (#). Komentar tidak akan diinterpretasikan oleh Python dan hanya akan ditampilkan sebagai teks."
      ],
      "metadata": {
        "id": "baquGhHMQM1t"
      }
    },
    {
      "cell_type": "code",
      "source": [
        "nama = \"Luluk\"\n",
        "a = 10; b = 8\n",
        "Kesibukan, Keterangan = 'Berkuliah', 'Telkom University Surabaya'\n",
        "print(f\"Nama saya {nama} dan Umur saya adalah {a+b} Tahun dan sedang {Kesibukan} di {Keterangan}\")"
      ],
      "metadata": {
        "colab": {
          "base_uri": "https://localhost:8080/"
        },
        "id": "hrX4ZSYeQPwP",
        "outputId": "c93afab3-6f03-49ff-eed1-1ebc07a834a0"
      },
      "execution_count": null,
      "outputs": [
        {
          "output_type": "stream",
          "name": "stdout",
          "text": [
            "Nama saya Luluk dan Umur saya adalah 18 Tahun dan sedang Berkuliah di Telkom University Surabaya\n"
          ]
        }
      ]
    },
    {
      "cell_type": "markdown",
      "source": [
        "MultiStatment Variabel\n",
        "\n",
        "Tanda Kurung Kurawal {}\n",
        "\n",
        "\n",
        "*   Membentuk blok kode: Dalam banyak bahasa pemrograman, termasuk Python, tanda kurung kurawal digunakan untuk menandai awal dan akhir dari sebuah blok kode. Blok kode ini bisa berupa fungsi, kondisi (if-else), perulangan (for, while), dan lain-lain.\n",
        "*   Mendefinisikan dictionary: Dalam Python, tanda kurung kurawal juga digunakan untuk membuat dictionary, yaitu struktur data yang menyimpan pasangan kunci-nilai.\n",
        "\n",
        "F-string atau print(f\"...\") adalah fitur yang sangat berguna dalam Python untuk membuat string yang dinamis dan mudah dibaca. Dengan f-string, kita bisa menyisipkan variabel, melakukan perhitungan, dan mengatur format output dengan cara yang lebih efisien dan fleksibel dibandingkan dengan metode format lainnya.\n",
        "\n",
        "\n",
        "\n"
      ],
      "metadata": {
        "id": "bibS6xzmX8o3"
      }
    },
    {
      "cell_type": "code",
      "source": [
        "nama = input(\"Masukkan nama Anda: \")\n",
        "kelas = 'ds 04-02'\n",
        "jumlah_mahasiswa = int(input(\"Berapa jumlahnya?: \"))\n",
        "\n",
        "print('\\n')\n",
        "print(\"Halo, aku\", nama, 'dan aku dari', kelas, 'jumlah mahasiswa kelasnya adalah', jumlah_mahasiswa)"
      ],
      "metadata": {
        "colab": {
          "base_uri": "https://localhost:8080/"
        },
        "id": "MAXA9vjMgT4E",
        "outputId": "a172072f-3e85-4e79-842d-a2154d1a46c9"
      },
      "execution_count": null,
      "outputs": [
        {
          "output_type": "stream",
          "name": "stdout",
          "text": [
            "Masukkan nama Anda: luluk\n",
            "Berapa jumlahnya?: 43\n",
            "\n",
            "\n",
            "Halo, aku luluk dan aku dari ds 04-02 jumlah mahasiswa kelasnya adalah 43\n"
          ]
        }
      ]
    },
    {
      "cell_type": "markdown",
      "source": [
        "**Input dari Pengguna**\n",
        "\n",
        "Kode diatas menyatakan:\n",
        "\n",
        "\n",
        "*   Meminta nama: Program meminta pengguna untuk memasukkan namanya melalui fungsi input(). Nilai yang dimasukkan akan disimpan dalam variabel nama.\n",
        "*   Menentukan kelas: Program secara langsung memberikan nilai \"ds 04-02\" ke variabel kelas. Ini berarti kelas yang dimaksud adalah \"ds 04-02\".\n",
        "\n",
        "\n",
        "*   Meminta jumlah mahasiswa: Program meminta pengguna untuk memasukkan jumlah mahasiswa. Nilai yang dimasukkan akan diubah menjadi bilangan bulat menggunakan fungsi int() dan disimpan dalam variabel jumlah_mahasiswa.\n",
        "*   Mencetak output: Program mencetak sebuah kalimat yang berisi nama, kelas, dan jumlah mahasiswa yang telah diinputkan pengguna.\n",
        "\n",
        "\n",
        "\n"
      ],
      "metadata": {
        "id": "RsNvXkpblUjX"
      }
    },
    {
      "cell_type": "code",
      "source": [
        "nilai = int(input(\"Masukkan nilaimu: \"))\n",
        "\n",
        "if nilai >= 70:\n",
        "    print(\"Selamat anda lulus MatKul Statistika\")\n",
        "elif nilai == 20:\n",
        "    print('Semoga Lulus')\n",
        "else:\n",
        "    print(\"Maaf anda tidak lulus\")"
      ],
      "metadata": {
        "colab": {
          "base_uri": "https://localhost:8080/"
        },
        "id": "mIhFrPq1mRAl",
        "outputId": "0658e011-af08-470d-9da4-62b3dcf66118"
      },
      "execution_count": null,
      "outputs": [
        {
          "output_type": "stream",
          "name": "stdout",
          "text": [
            "Masukkan nilaimu: 80\n",
            "Selamat anda lulus MatKul Statistika\n"
          ]
        }
      ]
    },
    {
      "cell_type": "code",
      "source": [],
      "metadata": {
        "id": "xSBTJYnAobwA"
      },
      "execution_count": null,
      "outputs": []
    },
    {
      "cell_type": "markdown",
      "source": [
        "**Percabangan** dalam pemrograman adalah suatu konsep di mana program akan mengambil keputusan untuk menjalankan kode tertentu berdasarkan kondisi yang diberikan. Sederhananya, program akan \"bercabang\" ke bagian kode yang berbeda tergantung pada apakah suatu kondisi terpenuhi atau tidak."
      ],
      "metadata": {
        "id": "UxKJBLGoqzoc"
      }
    },
    {
      "cell_type": "code",
      "source": [
        "nama = ['luluk',\"shindy\",\"aghna\",\"manda\",\"clairine\",]\n",
        "for nama in nama:\n",
        "    print(\"Nama saya\",nama)\n",
        "    print(\"Cewek Cantik\",nama)"
      ],
      "metadata": {
        "colab": {
          "base_uri": "https://localhost:8080/"
        },
        "id": "pp6ggQxksxku",
        "outputId": "d18129e8-60ff-422e-997a-10c25e308f98"
      },
      "execution_count": null,
      "outputs": [
        {
          "output_type": "stream",
          "name": "stdout",
          "text": [
            "Nama saya luluk\n",
            "Cewek Cantik luluk\n",
            "Nama saya shindy\n",
            "Cewek Cantik shindy\n",
            "Nama saya aghna\n",
            "Cewek Cantik aghna\n",
            "Nama saya manda\n",
            "Cewek Cantik manda\n",
            "Nama saya clairine\n",
            "Cewek Cantik clairine\n"
          ]
        }
      ]
    },
    {
      "cell_type": "markdown",
      "source": [
        "**Looping and While**\n",
        "Looping adalah sebuah konsep dalam pemrograman yang memungkinkan kita untuk mengulang suatu blok kode beberapa kali. Ini sangat berguna ketika kita ingin melakukan suatu tugas berulang-ulang tanpa harus menulis kode yang sama berulang kali."
      ],
      "metadata": {
        "id": "8UVlQJZZucLH"
      }
    },
    {
      "cell_type": "code",
      "source": [
        "# Menentukan luas segitiga\n",
        "\n",
        "alas = float(input(\"Masukkan alas segitiga: \"))\n",
        "tinggi = float(input(\"Masukkan tinggi segitiga: \"))\n",
        "\n",
        "if alas <= 0 or tinggi <= 0:\n",
        "    print(\"Nilai alas atau tinggi tidak valid\")\n",
        "else:\n",
        "    luas = (alas * tinggi) / 2\n",
        "    print(\"Luas segitiga:\", luas)"
      ],
      "metadata": {
        "colab": {
          "base_uri": "https://localhost:8080/"
        },
        "id": "e4eIbNpt8wtI",
        "outputId": "14d515a6-b368-4107-c459-853dc1b55667"
      },
      "execution_count": null,
      "outputs": [
        {
          "output_type": "stream",
          "name": "stdout",
          "text": [
            "Masukkan alas segitiga: 10\n",
            "Masukkan tinggi segitiga: 15\n",
            "Luas segitiga: 75.0\n"
          ]
        }
      ]
    },
    {
      "cell_type": "markdown",
      "source": [
        "Kode diatas menyatakan Rumus segitiga\n",
        "\n",
        "Luas Segitiga dengan Percabangan\n",
        "\n"
      ],
      "metadata": {
        "id": "_tZtoTFcB4aR"
      }
    },
    {
      "cell_type": "code",
      "source": [
        "usia=int(input(\"masukkan usia anda: \"))\n",
        "tinggi=int(input(\"masukkan tinggi anda: \"))\n",
        "\n",
        "if usia >= 10 and tinggi >= 110:\n",
        "    member= bool(input(\"Apakah anda member?: \"))\n",
        "    pembelian= int(input(\"Total pembelian: \"))\n",
        "    if member == True or pembelian > 500000:\n",
        "        print(\"selamat anda bisa menikmati wahana ini\")\n",
        "else:\n",
        "    print(\"aduh sayang sekali, anda belum bisa menikmati wahana ini\")"
      ],
      "metadata": {
        "id": "QvwwGbBhCmUB"
      },
      "execution_count": null,
      "outputs": []
    },
    {
      "cell_type": "markdown",
      "source": [
        "Kode diatas menyatakan if dalam if\n",
        "\n",
        "Tipe Data Boolean: True dan False digunakan untuk mewakili nilai benar atau salah. Dalam konteks ini, member akan bernilai True jika pengguna adalah anggota dan False jika bukan.\n",
        "\n",
        "Operator Logika: and digunakan untuk menggabungkan dua kondisi. Kedua kondisi harus benar agar hasil keseluruhannya benar. or digunakan untuk menggabungkan dua kondisi. Salah satu kondisi saja yang perlu benar agar hasil keseluruhannya benar.\n"
      ],
      "metadata": {
        "id": "ho7JlZT_C3l5"
      }
    },
    {
      "cell_type": "code",
      "source": [
        "for i in range(1000):\n",
        "    print(i)\n",
        "    if i==10:\n",
        "        break"
      ],
      "metadata": {
        "colab": {
          "base_uri": "https://localhost:8080/"
        },
        "id": "jLZu0a6kDVHC",
        "outputId": "cff60dab-cf57-41b2-9993-75612ea92b2a"
      },
      "execution_count": null,
      "outputs": [
        {
          "output_type": "stream",
          "name": "stdout",
          "text": [
            "0\n",
            "1\n",
            "2\n",
            "3\n",
            "4\n",
            "5\n",
            "6\n",
            "7\n",
            "8\n",
            "9\n",
            "10\n"
          ]
        }
      ]
    },
    {
      "cell_type": "markdown",
      "source": [
        "Kode diatas menyatakan Struktur Perulangan Kompleks Break\n",
        "\n",
        "```\n",
        "`# Ini diformat sebagai kode`\n",
        "```\n",
        "\n"
      ],
      "metadata": {
        "id": "gn9hTkhWDmA4"
      }
    },
    {
      "cell_type": "code",
      "source": [
        "for i in range(10):\n",
        "    if i==5:\n",
        "        continue\n",
        "    print(i)"
      ],
      "metadata": {
        "id": "75lPfjD9DgdP"
      },
      "execution_count": null,
      "outputs": []
    },
    {
      "cell_type": "markdown",
      "source": [
        "Kode diatas menyatakan Struktur Perulangan Continue"
      ],
      "metadata": {
        "id": "Z0n2A05rUYuM"
      }
    },
    {
      "cell_type": "code",
      "source": [
        "baris=int(input(\"masukkan jumlah baris: \"))\n",
        "\n",
        "for i in range(1, baris+1):\n",
        "    for j in range (1, i+1):\n",
        "        print(i, end=\" \")\n",
        "    for j in range(0,i):\n",
        "        print(\"\", end=\" \")\n",
        "    print()"
      ],
      "metadata": {
        "colab": {
          "base_uri": "https://localhost:8080/"
        },
        "id": "DoLHAwo3d-Zl",
        "outputId": "c96d17db-e770-46f6-954a-2e26c95a64c0"
      },
      "execution_count": null,
      "outputs": [
        {
          "output_type": "stream",
          "name": "stdout",
          "text": [
            "masukkan jumlah baris: 3\n",
            "1  \n",
            "2 2   \n",
            "3 3 3    \n"
          ]
        }
      ]
    },
    {
      "cell_type": "markdown",
      "source": [
        "Kode diatas menyatakan contoh Struktur Perulangan"
      ],
      "metadata": {
        "id": "izTA226AeJXK"
      }
    },
    {
      "cell_type": "code",
      "source": [
        "nilai=int(input(\"nilai anda: \"))\n",
        "kehadiran=int(input(\"masukkan presentase kehadiran anda: \"))\n",
        "if nilai > 80:\n",
        "    if kehadiran > 90:\n",
        "        print(\"sangat memuaskan\")\n",
        "    elif kehadiran >= 75 and 90:\n",
        "        print(\"memuaskan\")\n",
        "    else:\n",
        "        print(\"cukup memuaskan\")\n",
        "\n",
        "elif nilai >= 60 and nilai >= 80:\n",
        "    if kehadiran > 75:\n",
        "        print(\"cukup\")\n",
        "    elif kehadiran > 75 and kehadiran == 75:\n",
        "        print(\"print perbaikan\")\n",
        "\n",
        "else:\n",
        "    print(\"tidak lulus\")"
      ],
      "metadata": {
        "colab": {
          "base_uri": "https://localhost:8080/"
        },
        "id": "rpUGd_gjhkxj",
        "outputId": "50fda5d9-5680-4336-839c-68d3b321b810"
      },
      "execution_count": null,
      "outputs": [
        {
          "output_type": "stream",
          "name": "stdout",
          "text": [
            "nilai anda: 80\n",
            "masukkan presentase kehadiran anda: 80\n",
            "cukup\n"
          ]
        }
      ]
    },
    {
      "cell_type": "markdown",
      "source": [
        "Kode diatas menyatakan kondisi"
      ],
      "metadata": {
        "id": "RnLG1OhQ6O9R"
      }
    },
    {
      "cell_type": "code",
      "source": [
        "n=int(input(\"masukkan jumlah data: \"))\n",
        "list_data=[float(input(\"masukkan data: \")) for _ in range (n)]\n",
        "print(\"data kamu adalah \", list_data)"
      ],
      "metadata": {
        "colab": {
          "base_uri": "https://localhost:8080/"
        },
        "id": "mIu96wC97OeL",
        "outputId": "b0345b68-9caa-4613-989d-3249cccc32ce"
      },
      "execution_count": null,
      "outputs": [
        {
          "output_type": "stream",
          "name": "stdout",
          "text": [
            "masukkan jumlah data: 5\n",
            "masukkan data: 6\n",
            "masukkan data: 5\n",
            "masukkan data: 8\n",
            "masukkan data: 9\n",
            "masukkan data: 10\n",
            "data kamu adalah  [6.0, 5.0, 8.0, 9.0, 10.0]\n"
          ]
        }
      ]
    },
    {
      "cell_type": "markdown",
      "source": [
        "Kode diatas menyatakan for dalam list"
      ],
      "metadata": {
        "id": "vdTJd15QB2Ec"
      }
    },
    {
      "cell_type": "markdown",
      "source": [
        "**Penggunaan append**\n",
        "\n",
        "Dalam Python, metode append [ ] digunakan untuk menambahkan (menyisipkan) elemen baru ke akhir sebuah list. Ini sangat berguna ketika Anda ingin memperluas atau menambahkan item ke dalam list tanpa membuat list baru.\n",
        "\n",
        "Contoh :\n"
      ],
      "metadata": {
        "id": "fxcgeBqACLl-"
      }
    },
    {
      "cell_type": "code",
      "source": [
        "# Membuat list kosong\n",
        "daftar_buah = []\n",
        "\n",
        "# Menambahkan elemen ke dalam list\n",
        "daftar_buah.append(\"apel\")\n",
        "daftar_buah.append(\"jeruk\")\n",
        "daftar_buah.append(\"pisang\")\n",
        "\n",
        "print(daftar_buah)  # Output: ['apel', 'jeruk', 'pisang']"
      ],
      "metadata": {
        "colab": {
          "base_uri": "https://localhost:8080/"
        },
        "id": "nLqdJJ8KB9xF",
        "outputId": "67e03137-14d0-40d8-fa66-060e36e3a4fd"
      },
      "execution_count": null,
      "outputs": [
        {
          "output_type": "stream",
          "name": "stdout",
          "text": [
            "['apel', 'jeruk', 'pisang']\n"
          ]
        }
      ]
    },
    {
      "cell_type": "code",
      "source": [
        "x=[ ]\n",
        "n=5\n",
        "for i in range(n):\n",
        "    x.append (int(input(\"masukkan data: \")))\n",
        "    print(\"masukkan data\", x)"
      ],
      "metadata": {
        "colab": {
          "base_uri": "https://localhost:8080/"
        },
        "id": "TPd9XR_RCgVn",
        "outputId": "5257f2be-0ecc-4fc6-fb31-95e4fec1291c"
      },
      "execution_count": null,
      "outputs": [
        {
          "output_type": "stream",
          "name": "stdout",
          "text": [
            "masukkan data: 5\n",
            "masukkan data [5]\n",
            "masukkan data: 6\n",
            "masukkan data [5, 6]\n",
            "masukkan data: 7\n",
            "masukkan data [5, 6, 7]\n",
            "masukkan data: 8\n",
            "masukkan data [5, 6, 7, 8]\n",
            "masukkan data: 9\n",
            "masukkan data [5, 6, 7, 8, 9]\n"
          ]
        }
      ]
    },
    {
      "cell_type": "markdown",
      "source": [
        "**While**\n",
        "\n",
        "\n",
        "Dalam Python, metode append [ ] digunakan untuk menambahkan (menyisipkan) elemen baru ke akhir sebuah list. Ini sangat berguna ketika Anda ingin memperluas atau menambahkan item ke dalam list tanpa membuat list baru."
      ],
      "metadata": {
        "id": "ey49RNZzIUGs"
      }
    },
    {
      "cell_type": "code",
      "source": [
        "jawab='ya'\n",
        "hitung=0\n",
        "while (jawab=='ya'):\n",
        "    hitung=hitung+1\n",
        "    jawab=input('ulangi lagi tidak?')\n",
        "print(\"total pengulangan: \",hitung)"
      ],
      "metadata": {
        "colab": {
          "base_uri": "https://localhost:8080/"
        },
        "id": "Ndu2SFRcIco8",
        "outputId": "993d8212-06ed-444b-b84b-a322020cc535"
      },
      "execution_count": null,
      "outputs": [
        {
          "output_type": "stream",
          "name": "stdout",
          "text": [
            "ulangi lagi tidak?ya\n",
            "ulangi lagi tidak?ya\n",
            "ulangi lagi tidak?ya\n",
            "ulangi lagi tidak?ya\n",
            "ulangi lagi tidak?tidak\n",
            "total pengulangan:  5\n"
          ]
        }
      ]
    },
    {
      "cell_type": "code",
      "source": [],
      "metadata": {
        "id": "hhoPc369IfPX"
      },
      "execution_count": null,
      "outputs": []
    }
  ]
}